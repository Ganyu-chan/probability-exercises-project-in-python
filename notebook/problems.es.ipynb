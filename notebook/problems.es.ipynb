{
 "cells": [
  {
   "cell_type": "markdown",
   "id": "a41f3622",
   "metadata": {},
   "source": [
    "# Ejercicios de probabilidad"
   ]
  },
  {
   "cell_type": "markdown",
   "id": "a6bdbd89",
   "metadata": {},
   "source": [
    "## Ejercicio 1 \n",
    "\n",
    "Dos dados se lanzan una vez y se observa el total obtenido. Usa una simulación para encontrar la probabilidad estimada de que la puntuación sea mayor a 7 o un número par. Una simulación es una repetición del mismo experimento multiples veces para observar su comportamiento:\n",
    "\n",
    "- Ejecuta el experimento 1000 veces (lanza 2 dados 1000 veces, y suma el número de ambos dados).\n",
    "- Lleva ua cuenta de los números y las veces que la suma fue mayor a 7 o un número par.\n",
    "- Divide el número del paso 2 entre el número de iteraciones(1000)."
   ]
  },
  {
   "cell_type": "code",
   "execution_count": 223,
   "id": "8939d892",
   "metadata": {},
   "outputs": [
    {
     "name": "stdout",
     "output_type": "stream",
     "text": [
      "La probabilidad de que saliera mayor a 7 y numero par fue 66.9%\n"
     ]
    }
   ],
   "source": [
    "import random\n",
    "import numpy as np\n",
    "\n",
    "def Tiradas(simulaciones_qty = 1000):\n",
    "    contador = 0\n",
    "    for x in range(simulaciones_qty):\n",
    "        dado1 = random.randint(1,6)\n",
    "        dado2 = random.randint(1,6)\n",
    "        total = dado1 + dado2    \n",
    "        if (total % 2 == 0) or (total > 7):\n",
    "            contador += 1\n",
    "    return contador / simulaciones_qty\n",
    "\n",
    "print(f\"La probabilidad de que saliera mayor a 7 y numero par fue {np.round(Tiradas() * 100, 3)}%\")\n",
    "\n"
   ]
  },
  {
   "cell_type": "markdown",
   "id": "55732bca",
   "metadata": {},
   "source": [
    "## Ejercicio 2\n",
    "\n",
    "Una caja contiene 10 bolas blancas, 20 bolas rojas y 30 bolas verdes. Si tomamos 5 bolas de la caja reemplazándolas (tomando una bola, anotando el color y luego regresandola a la caja). Queremos saber la probabilidad de:\n",
    "\n",
    "1. Tomar 3 blancas y 2 rojas.\n",
    "2. Toas todas del mismo color.\n",
    "\n",
    "Ejecuta el experimento 1000 veces y calcula las probabilidades que mencionadas."
   ]
  },
  {
   "cell_type": "code",
   "execution_count": 233,
   "id": "23244d20",
   "metadata": {},
   "outputs": [
    {
     "name": "stdout",
     "output_type": "stream",
     "text": [
      "{0: 'Blanco', 1: 'Blanco', 2: 'Blanco', 3: 'Blanco', 4: 'Blanco', 5: 'Blanco', 6: 'Blanco', 7: 'Blanco', 8: 'Blanco', 9: 'Blanco', 10: 'Rojo', 11: 'Rojo', 12: 'Rojo', 13: 'Rojo', 14: 'Rojo', 15: 'Rojo', 16: 'Rojo', 17: 'Rojo', 18: 'Rojo', 19: 'Rojo', 20: 'Rojo', 21: 'Rojo', 22: 'Rojo', 23: 'Rojo', 24: 'Rojo', 25: 'Rojo', 26: 'Rojo', 27: 'Rojo', 28: 'Rojo', 29: 'Rojo', 30: 'Verde', 31: 'Verde', 32: 'Verde', 33: 'Verde', 34: 'Verde', 35: 'Verde', 36: 'Verde', 37: 'Verde', 38: 'Verde', 39: 'Verde', 40: 'Verde', 41: 'Verde', 42: 'Verde', 43: 'Verde', 44: 'Verde', 45: 'Verde', 46: 'Verde', 47: 'Verde', 48: 'Verde', 49: 'Verde', 50: 'Verde', 51: 'Verde', 52: 'Verde', 53: 'Verde', 54: 'Verde', 55: 'Verde', 56: 'Verde', 57: 'Verde', 58: 'Verde', 59: 'Verde'}\n",
      "La probabilidad de que 3 blanquitas y 2 rojitas sean tomadas es de: 0.6%\n",
      "La probabilidad de que todas sean del mismo colorcillo es: 2.7%\n"
     ]
    }
   ],
   "source": [
    "import numpy as np\n",
    "import random\n",
    "\n",
    "caja = {}\n",
    "\n",
    "# Crea la cajas con las bolas\n",
    "for i in range(60):\n",
    "    if i < 10:\n",
    "        caja[i] = \"Blanco\"\n",
    "    elif (i > 9) and (i < 30):\n",
    "        caja[i] = \"Rojo\"\n",
    "    else:\n",
    "        caja[i] = \"Verde\"\n",
    "\n",
    "print(caja)\n",
    "            \n",
    "# TODO\n",
    "# Definir la definicion que crea 1000 veces\n",
    "def bolas(tests = 1000):\n",
    "    contador_1 = 0\n",
    "    contador_2 = 0\n",
    "# Crea la funcion en rango de \"Tests\", una lista de colores vacias\n",
    "    for x in range(tests):\n",
    "        colorines = []\n",
    "# Tomar 5 bolas de la caja\n",
    "        for x in range(5):\n",
    "            colorines.append(caja[np.random.randint(0, 59)])\n",
    "        # convertir a Array para poder manipular la informacion mejor\n",
    "        colorines = np.array(colorines)\n",
    "\n",
    "        Blanquito = np.sum(colorines == \"Blanco\")\n",
    "        Rojito = np.sum(colorines == \"Rojo\")\n",
    "        Verdoso = np.sum(colorines == \"Verde\")\n",
    "\n",
    "        # Tomar decisiones para separar las dos opciones\n",
    "        if (Blanquito == 3) and (Rojito == 2):\n",
    "            contador_1 += 1\n",
    "        if (Blanquito == 5) or (Rojito == 5) or (Verdoso == 5):\n",
    "            contador_2 += 1\n",
    "    return contador_1 / tests, contador_2 / tests\n",
    "\n",
    "probabilidades = bolas(1000)\n",
    "\n",
    "print(f\"La probabilidad de que 3 blanquitas y 2 rojitas sean tomadas es de: {np.round(probabilidades[0] * 100,2)}%\")\n",
    "print(f\"La probabilidad de que todas sean del mismo colorcillo es: {np.round(probabilidades[1] * 100,2)}%\")\n",
    "\n"
   ]
  }
 ],
 "metadata": {
  "kernelspec": {
   "display_name": "Python 3",
   "language": "python",
   "name": "python3"
  },
  "language_info": {
   "codemirror_mode": {
    "name": "ipython",
    "version": 3
   },
   "file_extension": ".py",
   "mimetype": "text/x-python",
   "name": "python",
   "nbconvert_exporter": "python",
   "pygments_lexer": "ipython3",
   "version": "3.11.4"
  }
 },
 "nbformat": 4,
 "nbformat_minor": 5
}
